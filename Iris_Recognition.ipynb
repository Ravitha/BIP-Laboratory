{
  "nbformat": 4,
  "nbformat_minor": 0,
  "metadata": {
    "colab": {
      "name": "Iris Recognition.ipynb",
      "provenance": [],
      "authorship_tag": "ABX9TyN/GcAc+xCOFY+r4VjApJsf",
      "include_colab_link": true
    },
    "kernelspec": {
      "name": "python3",
      "display_name": "Python 3"
    }
  },
  "cells": [
    {
      "cell_type": "markdown",
      "metadata": {
        "id": "view-in-github",
        "colab_type": "text"
      },
      "source": [
        "<a href=\"https://colab.research.google.com/github/Ravitha/BIP-Laboratory/blob/master/Iris_Recognition.ipynb\" target=\"_parent\"><img src=\"https://colab.research.google.com/assets/colab-badge.svg\" alt=\"Open In Colab\"/></a>"
      ]
    },
    {
      "cell_type": "code",
      "metadata": {
        "id": "80MagFY6kuVm",
        "colab_type": "code",
        "outputId": "2b68c55d-dc3a-4b32-b72a-c8e18161811d",
        "colab": {
          "base_uri": "https://localhost:8080/",
          "height": 269
        }
      },
      "source": [
        "import numpy as np\n",
        "import cv2\n",
        "from matplotlib import pyplot as plt\n",
        "#create a 512x512 black image\n",
        "img=np.zeros((512,512,3),np.uint8)\n",
        " \n",
        "#non filled circle\n",
        "img1 = cv2.circle(img,(256,256),63, (0,255,0), -1)\n",
        "#filled circle\n",
        "img1 = cv2.circle(img,(256,256),30, (255,255,255), -1)\n",
        "#now use a frame to show it just as displaying a image\n",
        "\n",
        "plt.imshow(img1)\n",
        "plt.show()\n"
      ],
      "execution_count": 0,
      "outputs": [
        {
          "output_type": "display_data",
          "data": {
            "image/png": "[encoded data removed]",
            "text/plain": [
              "<Figure size 432x288 with 1 Axes>"
            ]
          },
          "metadata": {
            "tags": [],
            "needs_background": "light"
          }
        }
      ]
    },
    {
      "cell_type": "code",
      "metadata": {
        "id": "0CEVeffOk058",
        "colab_type": "code",
        "outputId": "51324114-8e38-4531-967a-6d022fefd645",
        "colab": {
          "base_uri": "https://localhost:8080/",
          "height": 205
        }
      },
      "source": [
        "circles = cv2.HoughCircles(img1,cv2.HOUGH_GRADIENT,1,20,\n",
        "                            param1=50,param2=30,minRadius=0,maxRadius=63)"
      ],
      "execution_count": 0,
      "outputs": [
        {
          "output_type": "error",
          "ename": "error",
          "evalue": "ignored",
          "traceback": [
            "\u001b[0;31m---------------------------------------------------------------------------\u001b[0m",
            "\u001b[0;31merror\u001b[0m                                     Traceback (most recent call last)",
            "\u001b[0;32m<ipython-input-8-8eb71122737a>\u001b[0m in \u001b[0;36m<module>\u001b[0;34m()\u001b[0m\n\u001b[1;32m      1\u001b[0m circles = cv2.HoughCircles(img1,cv2.HOUGH_GRADIENT,1,20,\n\u001b[0;32m----> 2\u001b[0;31m                             param1=50,param2=30,minRadius=0,maxRadius=63)\n\u001b[0m",
            "\u001b[0;31merror\u001b[0m: OpenCV(4.1.2) /io/opencv/modules/imgproc/src/hough.cpp:1728: error: (-215:Assertion failed) !_image.empty() && _image.type() == CV_8UC1 && (_image.isMat() || _image.isUMat()) in function 'HoughCircles'\n"
          ]
        }
      ]
    },
    {
      "cell_type": "code",
      "metadata": {
        "id": "DApEhjY5mWKM",
        "colab_type": "code",
        "colab": {
          "base_uri": "https://localhost:8080/",
          "height": 268
        },
        "outputId": "3b9cf9c4-69c6-4cce-a85b-e9864b1ba8b5"
      },
      "source": [
        "import numpy as np\n",
        "import cv2\n",
        "from matplotlib import pyplot as plt\n",
        "#create a 512x512 black image\n",
        "img=np.zeros((100,100),np.uint8)\n",
        " \n",
        "#non filled circle\n",
        "img1 = cv2.circle(img,(40,40),30,255, -1)\n",
        "\n",
        "\n",
        "plt.imshow(img1, cmap='gray')\n",
        "plt.show()"
      ],
      "execution_count": 143,
      "outputs": [
        {
          "output_type": "display_data",
          "data": {
            "image/png": "[encoded data removed]",
            "text/plain": [
              "<Figure size 432x288 with 1 Axes>"
            ]
          },
          "metadata": {
            "tags": [],
            "needs_background": "light"
          }
        }
      ]
    },
    {
      "cell_type": "code",
      "metadata": {
        "id": "CBHyX0G-cQtZ",
        "colab_type": "code",
        "colab": {}
      },
      "source": [
        "if R is fixed \n",
        "then possible location of centre of the circle could be 0 to 100\n",
        "\n",
        "x = 0 : 100\n",
        "y = 0 : 100\n",
        "\n",
        "Let x y indicate points in image\n",
        "Let a b indicate the centre locations\n",
        "R is known"
      ],
      "execution_count": 0,
      "outputs": []
    },
    {
      "cell_type": "code",
      "metadata": {
        "id": "IPAbLudadgxf",
        "colab_type": "code",
        "colab": {}
      },
      "source": [
        "edges = cv2.Canny(img1,100,200)"
      ],
      "execution_count": 0,
      "outputs": []
    },
    {
      "cell_type": "code",
      "metadata": {
        "id": "DjAtn8QCd1yg",
        "colab_type": "code",
        "colab": {
          "base_uri": "https://localhost:8080/",
          "height": 268
        },
        "outputId": "08d68b7c-2b18-4064-b912-e0e417bc7f73"
      },
      "source": [
        "plt.imshow(edges, cmap='gray')\n",
        "plt.show()"
      ],
      "execution_count": 145,
      "outputs": [
        {
          "output_type": "display_data",
          "data": {
            "image/png": "[encoded data removed]",
            "text/plain": [
              "<Figure size 432x288 with 1 Axes>"
            ]
          },
          "metadata": {
            "tags": [],
            "needs_background": "light"
          }
        }
      ]
    },
    {
      "cell_type": "code",
      "metadata": {
        "id": "3ymhJb00d4ch",
        "colab_type": "code",
        "colab": {
          "base_uri": "https://localhost:8080/",
          "height": 35
        },
        "outputId": "438be57a-c08a-4b92-f37d-44e16d54bff7"
      },
      "source": [
        "print(np.min(edges))"
      ],
      "execution_count": 18,
      "outputs": [
        {
          "output_type": "stream",
          "text": [
            "0\n"
          ],
          "name": "stdout"
        }
      ]
    },
    {
      "cell_type": "code",
      "metadata": {
        "id": "IioDHgkHeLrp",
        "colab_type": "code",
        "colab": {
          "base_uri": "https://localhost:8080/",
          "height": 35
        },
        "outputId": "5034dbde-bf05-4313-eb6a-c6f243b5f0cd"
      },
      "source": [
        "print(np.max(edges))"
      ],
      "execution_count": 146,
      "outputs": [
        {
          "output_type": "stream",
          "text": [
            "255\n"
          ],
          "name": "stdout"
        }
      ]
    },
    {
      "cell_type": "code",
      "metadata": {
        "id": "Kkf3W-RVeR5v",
        "colab_type": "code",
        "colab": {}
      },
      "source": [
        "edgepoints = np.where(edges == 255)"
      ],
      "execution_count": 0,
      "outputs": []
    },
    {
      "cell_type": "code",
      "metadata": {
        "id": "Eo-ce_rTgm1D",
        "colab_type": "code",
        "colab": {
          "base_uri": "https://localhost:8080/",
          "height": 35
        },
        "outputId": "60cc35cf-7ced-4659-dba9-2446857bef9f"
      },
      "source": [
        "x = edgepoints[0]\n",
        "y = edgepoints[1]\n",
        "print(x.shape)"
      ],
      "execution_count": 148,
      "outputs": [
        {
          "output_type": "stream",
          "text": [
            "(200,)\n"
          ],
          "name": "stdout"
        }
      ]
    },
    {
      "cell_type": "code",
      "metadata": {
        "id": "9c5G9ZjBGhct",
        "colab_type": "code",
        "colab": {
          "base_uri": "https://localhost:8080/",
          "height": 337
        },
        "outputId": "1d3f2980-d273-47ba-e205-63799ca1b1f7"
      },
      "source": [
        "print(x)\n",
        "print(y)"
      ],
      "execution_count": 149,
      "outputs": [
        {
          "output_type": "stream",
          "text": [
            "[10 10 10 10 10 10 10 10 10 10 10 10 10 11 11 11 11 11 11 12 12 12 12 12\n",
            " 12 13 13 13 13 14 14 14 14 15 15 15 15 16 16 16 16 17 17 17 17 18 18 18\n",
            " 18 19 19 19 19 20 20 20 20 21 21 21 21 22 22 23 23 24 24 25 25 26 26 26\n",
            " 26 27 27 28 28 29 29 30 30 31 31 32 32 33 33 34 34 35 35 36 36 37 37 38\n",
            " 38 39 39 40 40 41 41 42 42 43 43 44 44 45 45 46 46 47 47 48 48 49 49 50\n",
            " 50 51 51 52 52 53 53 54 54 54 54 55 55 56 56 57 57 58 58 59 59 59 59 60\n",
            " 60 60 60 61 61 61 61 62 62 62 62 63 63 63 63 64 64 64 64 65 65 65 65 66\n",
            " 66 66 66 67 67 67 67 67 67 68 68 68 68 68 68 69 69 69 69 69 69 69 69 69\n",
            " 69 69 69 69 69 70 70 70]\n",
            "[34 35 36 37 38 39 40 41 42 43 44 45 46 31 32 33 47 48 49 28 29 30 50 51\n",
            " 52 26 27 53 54 25 26 54 55 23 24 56 57 21 22 58 59 20 21 59 60 19 20 60\n",
            " 61 18 19 61 62 17 18 62 63 16 17 63 64 16 64 15 65 15 65 14 66 13 14 66\n",
            " 67 13 67 12 67 12 68 12 68 11 68 11 69 11 69 10 69 10 69 10 69 10 69 10\n",
            " 69 10 70 10 70 10 70 10 69 10 69 10 69 10 69 10 69 11 69 11 69 11 68 12\n",
            " 68 12 68 12 67 13 67 13 14 66 67 14 66 15 65 15 65 16 64 16 17 63 64 17\n",
            " 18 62 63 18 19 61 62 19 20 60 61 20 21 59 60 21 22 58 59 23 24 56 57 25\n",
            " 26 54 55 26 27 28 52 53 54 29 30 31 49 50 51 32 33 34 35 36 37 38 42 43\n",
            " 44 45 46 47 48 39 40 41]\n"
          ],
          "name": "stdout"
        }
      ]
    },
    {
      "cell_type": "code",
      "metadata": {
        "id": "sTeutn3sgK9F",
        "colab_type": "code",
        "colab": {}
      },
      "source": [
        "R = 30\n",
        "P = np.zeros((100,100))\n",
        "for points in range(x.shape[0]):\n",
        "  p1 = x[points]\n",
        "  p2 = y[points]\n",
        "  for i in range(100):\n",
        "   for j in range(100):\n",
        "     if(((i-p1)*(i-p1) + (j-p2)*(j-p2)) == R*R ):\n",
        "       P[i][j] = P[i][j]+1 \n"
      ],
      "execution_count": 0,
      "outputs": []
    },
    {
      "cell_type": "code",
      "metadata": {
        "id": "NEkOYca1hhnP",
        "colab_type": "code",
        "colab": {
          "base_uri": "https://localhost:8080/",
          "height": 35
        },
        "outputId": "682510ee-f779-4511-a90c-410179ea94db"
      },
      "source": [
        "np.max(P)"
      ],
      "execution_count": 151,
      "outputs": [
        {
          "output_type": "execute_result",
          "data": {
            "text/plain": [
              "12.0"
            ]
          },
          "metadata": {
            "tags": []
          },
          "execution_count": 151
        }
      ]
    },
    {
      "cell_type": "code",
      "metadata": {
        "id": "vGO-4f4whmQN",
        "colab_type": "code",
        "colab": {
          "base_uri": "https://localhost:8080/",
          "height": 35
        },
        "outputId": "e8c03127-1dd8-4b03-9154-f97eec091ef4"
      },
      "source": [
        "np.where(P == 12)"
      ],
      "execution_count": 152,
      "outputs": [
        {
          "output_type": "execute_result",
          "data": {
            "text/plain": [
              "(array([40]), array([40]))"
            ]
          },
          "metadata": {
            "tags": []
          },
          "execution_count": 152
        }
      ]
    },
    {
      "cell_type": "code",
      "metadata": {
        "id": "Yn-BhTmMhrMq",
        "colab_type": "code",
        "colab": {}
      },
      "source": [
        "P = np.zeros((100,100,50))\n",
        "for points in range(x.shape[0]):\n",
        "  p1 = x[points]\n",
        "  p2 = y[points]\n",
        "  for i in range(100):\n",
        "   for j in range(100):\n",
        "     for R in range(50):\n",
        "      if(((i-p1)*(i-p1) + (j-p2)*(j-p2)) == R*R ):\n",
        "        P[i][j][R] = P[i][j][R]+1 "
      ],
      "execution_count": 0,
      "outputs": []
    },
    {
      "cell_type": "code",
      "metadata": {
        "id": "XrXXYdKjiFSS",
        "colab_type": "code",
        "colab": {
          "base_uri": "https://localhost:8080/",
          "height": 35
        },
        "outputId": "61a4841d-5b61-4e1d-8b79-27efe92464f7"
      },
      "source": [
        "np.max(P)"
      ],
      "execution_count": 36,
      "outputs": [
        {
          "output_type": "execute_result",
          "data": {
            "text/plain": [
              "12.0"
            ]
          },
          "metadata": {
            "tags": []
          },
          "execution_count": 36
        }
      ]
    },
    {
      "cell_type": "code",
      "metadata": {
        "id": "QOrP0uD1iKSF",
        "colab_type": "code",
        "colab": {
          "base_uri": "https://localhost:8080/",
          "height": 35
        },
        "outputId": "6a93ec25-0b7e-4845-d75b-d753e5e02244"
      },
      "source": [
        "np.where(P == 12)"
      ],
      "execution_count": 37,
      "outputs": [
        {
          "output_type": "execute_result",
          "data": {
            "text/plain": [
              "(array([40]), array([40]), array([30]))"
            ]
          },
          "metadata": {
            "tags": []
          },
          "execution_count": 37
        }
      ]
    },
    {
      "cell_type": "code",
      "metadata": {
        "id": "6k3pr4Sziyiu",
        "colab_type": "code",
        "colab": {}
      },
      "source": [
        "img=np.zeros((100,100),np.uint8)\n",
        " \n",
        "#non filled circle\n",
        "#img1 = cv2.circle(img,(40,40),30,255, -1)\n",
        "img1 = cv2.line(img, (60,100), (60,0), 255, 1)"
      ],
      "execution_count": 0,
      "outputs": []
    },
    {
      "cell_type": "code",
      "metadata": {
        "id": "gUxzxYOukbjB",
        "colab_type": "code",
        "colab": {
          "base_uri": "https://localhost:8080/",
          "height": 286
        },
        "outputId": "ba6f89bc-c0b0-4377-d9c3-86770b9a7d4e"
      },
      "source": [
        "plt.imshow(img1)"
      ],
      "execution_count": 104,
      "outputs": [
        {
          "output_type": "execute_result",
          "data": {
            "text/plain": [
              "<matplotlib.image.AxesImage at 0x7f0aeeff1470>"
            ]
          },
          "metadata": {
            "tags": []
          },
          "execution_count": 104
        },
        {
          "output_type": "display_data",
          "data": {
            "image/png": "[encoded data removed]",
            "text/plain": [
              "<Figure size 432x288 with 1 Axes>"
            ]
          },
          "metadata": {
            "tags": [],
            "needs_background": "light"
          }
        }
      ]
    },
    {
      "cell_type": "code",
      "metadata": {
        "id": "uUbRv7b0lNki",
        "colab_type": "code",
        "colab": {
          "base_uri": "https://localhost:8080/",
          "height": 35
        },
        "outputId": "5b9fd917-7868-46f4-b7ca-8371d07dfdc1"
      },
      "source": [
        "edges = cv2.Canny(img1,100,200)\n",
        "edgepoints = np.where(edges == 255)\n",
        "x = edgepoints[0]\n",
        "y = edgepoints[1]\n",
        "print(x.shape)"
      ],
      "execution_count": 105,
      "outputs": [
        {
          "output_type": "stream",
          "text": [
            "(200,)\n"
          ],
          "name": "stdout"
        }
      ]
    },
    {
      "cell_type": "code",
      "metadata": {
        "id": "fggIWoMDkdi3",
        "colab_type": "code",
        "colab": {}
      },
      "source": [
        "edges = cv2.Canny(img1,100,200)\n",
        "edgepoints = np.where(edges == 255)\n",
        "x = edgepoints[0]\n",
        "y = edgepoints[1]\n",
        "P = np.zeros((150,180))\n",
        "for points in range(x.shape[0]):\n",
        "  p1 = x[points]\n",
        "  p2 = y[points]\n",
        "  for i in range(150):\n",
        "   for j in range(180):\n",
        "    m = math.radians(j)\n",
        "    if(p1*np.cos(m) + p2*np.sin(m) == i ):\n",
        "       P[i][j] = P[i][j]+1   \n",
        "np.where(np.max(P))    "
      ],
      "execution_count": 0,
      "outputs": []
    },
    {
      "cell_type": "code",
      "metadata": {
        "id": "TXXsdaXkl3oC",
        "colab_type": "code",
        "colab": {
          "base_uri": "https://localhost:8080/",
          "height": 35
        },
        "outputId": "a14367f1-b80b-428d-ba74-e669ddd0634f"
      },
      "source": [
        "print(np.max(P))"
      ],
      "execution_count": 107,
      "outputs": [
        {
          "output_type": "stream",
          "text": [
            "59.0\n"
          ],
          "name": "stdout"
        }
      ]
    },
    {
      "cell_type": "code",
      "metadata": {
        "id": "81O-KUelr8ZV",
        "colab_type": "code",
        "colab": {
          "base_uri": "https://localhost:8080/",
          "height": 35
        },
        "outputId": "a6adb99c-3d8c-402f-bf30-41720f09ba8b"
      },
      "source": [
        "np.where(P == 59)"
      ],
      "execution_count": 108,
      "outputs": [
        {
          "output_type": "execute_result",
          "data": {
            "text/plain": [
              "(array([59, 61]), array([90, 90]))"
            ]
          },
          "metadata": {
            "tags": []
          },
          "execution_count": 108
        }
      ]
    },
    {
      "cell_type": "code",
      "metadata": {
        "id": "DIdpT37TrNcc",
        "colab_type": "code",
        "colab": {
          "base_uri": "https://localhost:8080/",
          "height": 269
        },
        "outputId": "56e3981e-3da4-47e4-b08f-632041c09d1e"
      },
      "source": [
        "import numpy as np\n",
        "import cv2\n",
        "from matplotlib import pyplot as plt\n",
        "#create a 512x512 black image\n",
        "img=np.zeros((256,256,3),np.uint8)\n",
        " \n",
        "#non filled circle\n",
        "img1 = cv2.circle(img,(128,128),63, (0,255,0), -1)\n",
        "#filled circle\n",
        "img1 = cv2.circle(img,(128,128),30, (255,255,255), -1)\n",
        "#now use a frame to show it just as displaying a image\n",
        "\n",
        "plt.imshow(img1)\n",
        "plt.show()\n"
      ],
      "execution_count": 109,
      "outputs": [
        {
          "output_type": "display_data",
          "data": {
            "image/png": "[encoded data removed]",
            "text/plain": [
              "<Figure size 432x288 with 1 Axes>"
            ]
          },
          "metadata": {
            "tags": [],
            "needs_background": "light"
          }
        }
      ]
    },
    {
      "cell_type": "code",
      "metadata": {
        "id": "qpVF1pErun72",
        "colab_type": "code",
        "colab": {
          "base_uri": "https://localhost:8080/",
          "height": 269
        },
        "outputId": "d43aba20-af43-4b10-e793-acafb791fa52"
      },
      "source": [
        "cs = (128,128)\n",
        "Rs = 63\n",
        "cp = (128,128)\n",
        "Rp = 30\n",
        "plt.imshow(img1)\n",
        "degrees = [0,45,90,135,180, 225,270,315,360]\n",
        "for i in degrees:\n",
        "  ox = 63 * np.cos(np.radians(i)) + 128\n",
        "  oy = 63 * np.sin(np.radians(i)) + 128\n",
        "  plt.plot(ox,oy,'ro')\n",
        "\n",
        "for i in degrees:\n",
        "  ix = 30 * np.cos(np.radians(i)) + 128\n",
        "  iy = 30 * np.sin(np.radians(i)) + 128\n",
        "  plt.plot(ix,iy,'bo')\n",
        "\n",
        "for i in degrees:\n",
        "  ox = 63 * np.cos(np.radians(i)) + 128\n",
        "  oy = 63 * np.sin(np.radians(i)) + 128\n",
        "  ix = 30 * np.cos(np.radians(i)) + 128\n",
        "  iy = 30 * np.sin(np.radians(i)) + 128\n",
        "  newx = (1-0.5)*ix + 0.5*ox\n",
        "  newy = (1-0.5)*iy + 0.5*oy \n",
        "  plt.plot(newx,newy,'mo')\n",
        "\n",
        "plt.show()\n",
        "\n",
        "\n",
        "\n"
      ],
      "execution_count": 120,
      "outputs": [
        {
          "output_type": "display_data",
          "data": {
            "image/png": "[encoded data removed]",
            "text/plain": [
              "<Figure size 432x288 with 1 Axes>"
            ]
          },
          "metadata": {
            "tags": [],
            "needs_background": "light"
          }
        }
      ]
    },
    {
      "cell_type": "code",
      "metadata": {
        "id": "n_kPYzcVvrZ4",
        "colab_type": "code",
        "colab": {
          "base_uri": "https://localhost:8080/",
          "height": 269
        },
        "outputId": "c7978b89-c318-4626-c27c-d7577fda8cd4"
      },
      "source": [
        "import numpy as np\n",
        "import cv2\n",
        "from matplotlib import pyplot as plt\n",
        "#create a 512x512 black image\n",
        "img=np.zeros((256,256,3),np.uint8)\n",
        " \n",
        "#non filled circle\n",
        "img1 = cv2.circle(img,(128,128),100, (0,255,0), -1)\n",
        "#filled circle\n",
        "img1 = cv2.circle(img,(128,128),30, (255,255,255), -1)\n",
        "#now use a frame to show it just as displaying a image\n",
        "\n",
        "plt.imshow(img1)\n",
        "plt.show()"
      ],
      "execution_count": 121,
      "outputs": [
        {
          "output_type": "display_data",
          "data": {
            "image/png": "[encoded data removed]",
            "text/plain": [
              "<Figure size 432x288 with 1 Axes>"
            ]
          },
          "metadata": {
            "tags": [],
            "needs_background": "light"
          }
        }
      ]
    },
    {
      "cell_type": "code",
      "metadata": {
        "id": "biCLVTH4xk98",
        "colab_type": "code",
        "colab": {
          "base_uri": "https://localhost:8080/",
          "height": 269
        },
        "outputId": "4fdc8d08-e811-4869-a277-e9c57b27eb12"
      },
      "source": [
        "cs = (128,128)\n",
        "Rs = 100\n",
        "cp = (128,128)\n",
        "Rp = 30\n",
        "plt.imshow(img1)\n",
        "degrees = [0,45,90,135,180, 225,270,315,360]\n",
        "for i in degrees:\n",
        "  ox = 100 * np.cos(np.radians(i)) + 128\n",
        "  oy = 100 * np.sin(np.radians(i)) + 128\n",
        "  plt.plot(ox,oy,'ro')\n",
        "\n",
        "for i in degrees:\n",
        "  ix = 30 * np.cos(np.radians(i)) + 128\n",
        "  iy = 30 * np.sin(np.radians(i)) + 128\n",
        "  plt.plot(ix,iy,'bo')\n",
        "\n",
        "for i in degrees:\n",
        "  ox = 100 * np.cos(np.radians(i)) + 128\n",
        "  oy = 100 * np.sin(np.radians(i)) + 128\n",
        "  ix = 30 * np.cos(np.radians(i)) + 128\n",
        "  iy = 30 * np.sin(np.radians(i)) + 128\n",
        "  newx = (1-0.2)*ix + 0.2*ox\n",
        "  newy = (1-0.2)*iy + 0.2*oy \n",
        "  plt.plot(newx,newy,'mo')\n",
        "  newx = (1-0.5)*ix + 0.5*ox\n",
        "  newy = (1-0.5)*iy + 0.5*oy \n",
        "  plt.plot(newx,newy,'mo')\n",
        "  newx = (1-0.8)*ix + 0.8*ox\n",
        "  newy = (1-0.8)*iy + 0.8*oy \n",
        "  plt.plot(newx,newy,'mo')\n",
        "plt.show()\n",
        "\n",
        "\n"
      ],
      "execution_count": 126,
      "outputs": [
        {
          "output_type": "display_data",
          "data": {
            "image/png": "[encoded data removed]",
            "text/plain": [
              "<Figure size 432x288 with 1 Axes>"
            ]
          },
          "metadata": {
            "tags": [],
            "needs_background": "light"
          }
        }
      ]
    },
    {
      "cell_type": "code",
      "metadata": {
        "id": "A32b9f2Xxxcw",
        "colab_type": "code",
        "colab": {
          "base_uri": "https://localhost:8080/",
          "height": 265
        },
        "outputId": "ec4e12d7-fb8b-42d3-f4e1-e7cd191d316e"
      },
      "source": [
        "Arr = np.zeros((5,9,3))\n",
        "l = 0\n",
        "for i in degrees:\n",
        "  ox = 100 * np.cos(np.radians(i)) + 128\n",
        "  oy = 100 * np.sin(np.radians(i)) + 128\n",
        "  ox = int(ox)\n",
        "  oy = int(oy)\n",
        "  Arr[0,l,:] = img1[ox,oy,:]\n",
        "  ix = 30 * np.cos(np.radians(i)) + 128\n",
        "  iy = 30 * np.sin(np.radians(i)) + 128\n",
        "  ix = int(ix)\n",
        "  iy = int(iy)\n",
        "  Arr[4,l,:] = img1[ix,iy,:]\n",
        "  newx = (1-0.2)*ix + 0.2*ox\n",
        "  newy = (1-0.2)*iy + 0.2*oy \n",
        "  newx = int(newx)\n",
        "  newy = int(newy)\n",
        "  Arr[1,l,:] = img1[newx,newy,:]\n",
        "  plt.plot(newx,newy,'mo')\n",
        "  newx = (1-0.5)*ix + 0.5*ox\n",
        "  newy = (1-0.5)*iy + 0.5*oy \n",
        "  newx = int(newx)\n",
        "  newy = int(newy)\n",
        "  Arr[2,l,:] = img1[newx,newy,:]\n",
        "  plt.plot(newx,newy,'mo')\n",
        "  newx = (1-0.8)*ix + 0.8*ox\n",
        "  newy = (1-0.8)*iy + 0.8*oy \n",
        "  newx = int(newx)\n",
        "  newy = int(newy)\n",
        "  Arr[3,l,:] = img1[newx,newy,:]\n",
        "  plt.plot(newx,newy,'mo')\n",
        "\n",
        "  l+=1"
      ],
      "execution_count": 140,
      "outputs": [
        {
          "output_type": "display_data",
          "data": {
            "image/png": "[encoded data removed]",
            "text/plain": [
              "<Figure size 432x288 with 1 Axes>"
            ]
          },
          "metadata": {
            "tags": [],
            "needs_background": "light"
          }
        }
      ]
    },
    {
      "cell_type": "code",
      "metadata": {
        "id": "OUl0dcYyyjES",
        "colab_type": "code",
        "colab": {
          "base_uri": "https://localhost:8080/",
          "height": 290
        },
        "outputId": "0006ef79-5d13-4184-98b2-b0144d6fd71c"
      },
      "source": [
        "plt.imshow(Arr)"
      ],
      "execution_count": 141,
      "outputs": [
        {
          "output_type": "stream",
          "text": [
            "Clipping input data to the valid range for imshow with RGB data ([0..1] for floats or [0..255] for integers).\n"
          ],
          "name": "stderr"
        },
        {
          "output_type": "execute_result",
          "data": {
            "text/plain": [
              "<matplotlib.image.AxesImage at 0x7f0aedd50198>"
            ]
          },
          "metadata": {
            "tags": []
          },
          "execution_count": 141
        },
        {
          "output_type": "display_data",
          "data": {
            "image/png": "[encoded data removed]",
            "text/plain": [
              "<Figure size 432x288 with 1 Axes>"
            ]
          },
          "metadata": {
            "tags": [],
            "needs_background": "light"
          }
        }
      ]
    }
  ]
}