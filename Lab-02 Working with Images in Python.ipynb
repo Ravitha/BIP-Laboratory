{
 "cells": [
  {
   "cell_type": "markdown",
   "metadata": {},
   "source": [
    "#__Lab 02 - Working with Images in Python__"
   ]
  },
  {
   "cell_type": "markdown",
   "metadata": {},
   "source": [
    "Images are stored as rectangular arrays of hundreds, thousands, or millions of discrete “picture elements,” otherwise known as pixels. Each pixel can be thought of as a single square point of colored light.When images are processed, It is possible to access, examine, and / or change the color of any pixel. To do this, a mechanism to access individual pixels are required.\n",
    "\n",
    "The most common manner is to assign a modified Cartesian coordinate system to the image. "
   ]
  },
  {
   "cell_type": "markdown",
   "metadata": {},
   "source": [
    "![Cartesian Coordinate system](01-cartesian.png)"
   ]
  },
  {
   "cell_type": "markdown",
   "metadata": {},
   "source": [
    "The modified coordinate system used for images will have only positive coordinates, the origin will be in the upper left corner instead of the center, and y coordinate values will get larger as they go down. This is called a left-hand coordinate system."
   ]
  },
  {
   "cell_type": "markdown",
   "metadata": {},
   "source": [
    "![Cartesian Coordinate system](01-image-coordinates.png)"
   ]
  },
  {
   "cell_type": "markdown",
   "metadata": {},
   "source": [
    "## __NumPy arrays__"
   ]
  },
  {
   "cell_type": "markdown",
   "metadata": {},
   "source": [
    "NumPy array is an extension package to Python for multi-dimensional arrays designed for scientific computation\n",
    "It is also known as array oriented computing"
   ]
  },
  {
   "cell_type": "code",
   "execution_count": 3,
   "metadata": {},
   "outputs": [],
   "source": [
    "import numpy as np"
   ]
  },
  {
   "cell_type": "code",
   "execution_count": 4,
   "metadata": {},
   "outputs": [],
   "source": [
    "# Construction of numpy arrays\n",
    "a = np.array([0, 1, 2, 3]) # 1-dimensional array\n",
    "b = np.array([[0, 1, 2], [3, 4, 5]])  #2-dimensional array\n",
    "c = np.array([[[1], [2]], [[3], [4]]]) # 3-dimensional array"
   ]
  },
  {
   "cell_type": "code",
   "execution_count": 11,
   "metadata": {},
   "outputs": [
    {
     "name": "stdout",
     "output_type": "stream",
     "text": [
      "(4,)\n",
      "1\n",
      "32\n",
      "4\n",
      "int64\n"
     ]
    }
   ],
   "source": [
    "#properties of numpy array\n",
    "print(a.shape) # shape provides the size of the array\n",
    "print(a.ndim) # ndim provides the number of dimensions\n",
    "print(a.nbytes) # total bytes consumed by the elements of the array\n",
    "print(a.size) # number of elements in the array\n",
    "print(a.dtype)"
   ]
  },
  {
   "cell_type": "code",
   "execution_count": 8,
   "metadata": {},
   "outputs": [
    {
     "name": "stdout",
     "output_type": "stream",
     "text": [
      "<class 'numpy.ndarray'>\n"
     ]
    }
   ],
   "source": [
    "print(type(a))"
   ]
  },
  {
   "cell_type": "markdown",
   "metadata": {},
   "source": [
    "An ndarray is a (usually fixed-size) multidimensional container of items of the same type and size. The number of dimensions and items in an array is defined by its shape, which is a tuple of N positive integers that specify the sizes of each dimension. The type of items in the array is specified by a separate data-type object (dtype), one of which is associated with each ndarray."
   ]
  },
  {
   "cell_type": "markdown",
   "metadata": {},
   "source": [
    "__Functions for Creating Arrays__"
   ]
  },
  {
   "cell_type": "markdown",
   "metadata": {},
   "source": [
    "Arrays can be created using the functions arange, linspace, ones, zeros, eye and diag automatically"
   ]
  },
  {
   "cell_type": "code",
   "execution_count": 15,
   "metadata": {},
   "outputs": [
    {
     "name": "stdout",
     "output_type": "stream",
     "text": [
      "[0 1 2 3 4 5 6 7 8 9]\n",
      "[1 3 5 7]\n"
     ]
    }
   ],
   "source": [
    "# To create evenly spaced functions\n",
    "a = np.arange(10) # generates numbers from 0 to 9\n",
    "print(a)\n",
    "b = np.arange(1,9,2) #generates evenly spaced numbers values are (start, stop, step)\n",
    "print(b)"
   ]
  },
  {
   "cell_type": "code",
   "execution_count": 17,
   "metadata": {},
   "outputs": [
    {
     "name": "stdout",
     "output_type": "stream",
     "text": [
      "[0.  0.2 0.4 0.6 0.8 1. ]\n"
     ]
    }
   ],
   "source": [
    "# Create array by specifying number of points within a range\n",
    "c = np.linspace(0, 1, 6) \n",
    "print(c)"
   ]
  },
  {
   "cell_type": "code",
   "execution_count": 18,
   "metadata": {},
   "outputs": [
    {
     "name": "stdout",
     "output_type": "stream",
     "text": [
      "[[1. 1. 1.]\n",
      " [1. 1. 1.]\n",
      " [1. 1. 1.]]\n",
      "[[0. 0.]\n",
      " [0. 0.]]\n",
      "[[1. 0. 0.]\n",
      " [0. 1. 0.]\n",
      " [0. 0. 1.]]\n",
      "[[1 0 0 0]\n",
      " [0 2 0 0]\n",
      " [0 0 3 0]\n",
      " [0 0 0 4]]\n"
     ]
    }
   ],
   "source": [
    "# Special type of arrays\n",
    "a = np.ones((3, 3))\n",
    "print(a)\n",
    "b = np.zeros((2, 2))\n",
    "print(b)\n",
    "c = np.eye(3)\n",
    "print(c)\n",
    "d = np.diag(np.array([1, 2, 3, 4]))\n",
    "print(d)"
   ]
  },
  {
   "cell_type": "code",
   "execution_count": 20,
   "metadata": {},
   "outputs": [
    {
     "name": "stdout",
     "output_type": "stream",
     "text": [
      "[0.9984483  0.0429002  0.9864265  0.47184672]\n"
     ]
    }
   ],
   "source": [
    "# Creating arrays with random numbers\n",
    "a = np.random.rand(4)  # creates numbers in uniform distribution from 0 to 1\n",
    "np.random.seed(1234) # setting a seed value for random generator \n",
    "# so that it generates same sequence of numbers\n",
    "print(a)"
   ]
  },
  {
   "cell_type": "markdown",
   "metadata": {},
   "source": [
    "__Basic Visualization__"
   ]
  },
  {
   "cell_type": "code",
   "execution_count": 23,
   "metadata": {},
   "outputs": [
    {
     "data": {
      "text/plain": [
       "<function matplotlib.pyplot.show(*args, **kw)>"
      ]
     },
     "execution_count": 23,
     "metadata": {},
     "output_type": "execute_result"
    },
    {
     "data": {
      "image/png": "[encoded data removed]",
      "text/plain": [
       "<Figure size 432x288 with 1 Axes>"
      ]
     },
     "metadata": {
      "needs_background": "light"
     },
     "output_type": "display_data"
    }
   ],
   "source": [
    "%matplotlib inline \n",
    "# enable plots in the notebook\n",
    "\n",
    "#MATPLOTLIB is a two dimensional package used for plotting\n",
    "from matplotlib import pyplot as plt\n",
    "x= np.array([1,2,3,4])\n",
    "y= np.array([2,4,6,8])\n",
    "\n",
    "plt.plot(x,y) # line plot\n",
    "plt.show() #show the plot"
   ]
  },
  {
   "cell_type": "markdown",
   "metadata": {},
   "source": [
    "__Indexing and slicing__"
   ]
  },
  {
   "cell_type": "markdown",
   "metadata": {},
   "source": [
    "Indexing and slicing are used to access the items in the array"
   ]
  },
  {
   "cell_type": "code",
   "execution_count": 27,
   "metadata": {},
   "outputs": [
    {
     "name": "stdout",
     "output_type": "stream",
     "text": [
      "[0 1 2 3 4 5 6 7 8 9]\n"
     ]
    }
   ],
   "source": [
    "a = np.arange(10) # For one dimensional array, element index position starts at 0 and increases by one\n",
    "print(a)"
   ]
  },
  {
   "cell_type": "code",
   "execution_count": 26,
   "metadata": {},
   "outputs": [
    {
     "name": "stdout",
     "output_type": "stream",
     "text": [
      "0\n",
      "9\n",
      "1\n"
     ]
    }
   ],
   "source": [
    "print(a[0]) #access the first element in the array\n",
    "print(a[-1]) # access last element in the array\n",
    "print(a[1]) #access rhe second element in the array"
   ]
  },
  {
   "cell_type": "markdown",
   "metadata": {},
   "source": [
    "For multidimensional arrays , indexes are tuples of integers"
   ]
  },
  {
   "cell_type": "code",
   "execution_count": 28,
   "metadata": {},
   "outputs": [
    {
     "name": "stdout",
     "output_type": "stream",
     "text": [
      "[[0 0 0]\n",
      " [0 1 0]\n",
      " [0 0 2]]\n",
      "1\n"
     ]
    }
   ],
   "source": [
    "a = np.diag(np.arange(3))\n",
    "print(a)\n",
    "print(a[1,1])"
   ]
  },
  {
   "cell_type": "markdown",
   "metadata": {},
   "source": [
    "Slicing denotes selecting a subsequence from an array"
   ]
  },
  {
   "cell_type": "code",
   "execution_count": 30,
   "metadata": {},
   "outputs": [
    {
     "data": {
      "text/plain": [
       "array([[0, 0, 0],\n",
       "       [0, 1, 0]])"
      ]
     },
     "execution_count": 30,
     "metadata": {},
     "output_type": "execute_result"
    }
   ],
   "source": [
    "a[0:2:1] #start:end:stop"
   ]
  },
  {
   "cell_type": "markdown",
   "metadata": {},
   "source": [
    "![Numpy Slicing](numpy_indexing.png)"
   ]
  },
  {
   "cell_type": "markdown",
   "metadata": {},
   "source": [
    "__Numerical opertaion on array__"
   ]
  },
  {
   "cell_type": "code",
   "execution_count": 34,
   "metadata": {},
   "outputs": [
    {
     "name": "stdout",
     "output_type": "stream",
     "text": [
      "[1 2 3 4]\n",
      "[2 3 4 5]\n",
      "[1 1 1 1]\n"
     ]
    }
   ],
   "source": [
    "a = np.array([1,2,3,4])\n",
    "print(a)\n",
    "b = a + 1 # element wise operations\n",
    "print(b)\n",
    "c = b - a\n",
    "print(c)"
   ]
  },
  {
   "cell_type": "code",
   "execution_count": 36,
   "metadata": {},
   "outputs": [
    {
     "name": "stdout",
     "output_type": "stream",
     "text": [
      "[[1. 1. 1.]\n",
      " [1. 1. 1.]\n",
      " [1. 1. 1.]]\n",
      "[[1. 1. 1.]\n",
      " [1. 1. 1.]\n",
      " [1. 1. 1.]]\n",
      "[[3. 3. 3.]\n",
      " [3. 3. 3.]\n",
      " [3. 3. 3.]]\n"
     ]
    }
   ],
   "source": [
    "c = np.ones((3,3))\n",
    "print(c)\n",
    "d = c * c #element wise multiplication\n",
    "print(d)\n",
    "e = c.dot(c) #matrix multiplication\n",
    "print(e)"
   ]
  },
  {
   "cell_type": "code",
   "execution_count": 38,
   "metadata": {},
   "outputs": [
    {
     "name": "stdout",
     "output_type": "stream",
     "text": [
      "[False  True False  True]\n",
      "False\n"
     ]
    }
   ],
   "source": [
    "#Comparisons\n",
    "a = np.array([1, 2, 3, 4])\n",
    "b = np.array([4, 2, 2, 4])\n",
    "print(a==b) # element wise comparison\n",
    "print(np.array_equal(a,b))"
   ]
  },
  {
   "cell_type": "code",
   "execution_count": 39,
   "metadata": {},
   "outputs": [
    {
     "name": "stdout",
     "output_type": "stream",
     "text": [
      "[ True  True  True False]\n"
     ]
    }
   ],
   "source": [
    "a = np.array([1, 1, 0, 0], dtype=bool)\n",
    "b = np.array([1, 0, 1, 0], dtype=bool)\n",
    "print(np.logical_or(a, b))"
   ]
  },
  {
   "cell_type": "code",
   "execution_count": 40,
   "metadata": {},
   "outputs": [
    {
     "name": "stdout",
     "output_type": "stream",
     "text": [
      "[ True False False False]\n"
     ]
    }
   ],
   "source": [
    "print(np.logical_and(a,b))"
   ]
  },
  {
   "cell_type": "markdown",
   "metadata": {},
   "source": [
    "__Basic Reductions__"
   ]
  },
  {
   "cell_type": "code",
   "execution_count": 42,
   "metadata": {},
   "outputs": [
    {
     "data": {
      "text/plain": [
       "10"
      ]
     },
     "execution_count": 42,
     "metadata": {},
     "output_type": "execute_result"
    }
   ],
   "source": [
    "#Computing sums\n",
    "x = np.array([1, 2, 3, 4])\n",
    "np.sum(x)"
   ]
  },
  {
   "cell_type": "markdown",
   "metadata": {},
   "source": [
    "![Reductions](reductions.png)"
   ]
  },
  {
   "cell_type": "code",
   "execution_count": 46,
   "metadata": {},
   "outputs": [
    {
     "name": "stdout",
     "output_type": "stream",
     "text": [
      "[[1 1]\n",
      " [2 2]]\n",
      "6\n",
      "[3 3]\n",
      "[2 4]\n"
     ]
    }
   ],
   "source": [
    "x= np.array([[1,1],[2,2]])\n",
    "print(x)\n",
    "# for all the reduction functions , axis parameter is used, which specifies in which axis reduction to be applied\n",
    "print(np.sum(x))\n",
    "print(np.sum(x,axis=0))\n",
    "print(np.sum(x,axis=1))"
   ]
  },
  {
   "cell_type": "code",
   "execution_count": 51,
   "metadata": {},
   "outputs": [
    {
     "name": "stdout",
     "output_type": "stream",
     "text": [
      "1\n",
      "[1 1]\n",
      "2\n",
      "0\n",
      "2\n"
     ]
    }
   ],
   "source": [
    "#Other reductions\n",
    "print(x.min())\n",
    "print(x.min(axis=0))\n",
    "print(x.max())\n",
    "print(x.argmin())#print the index of minimum element\n",
    "print(x.argmax())# print the index of maximum element"
   ]
  },
  {
   "cell_type": "code",
   "execution_count": 52,
   "metadata": {},
   "outputs": [
    {
     "name": "stdout",
     "output_type": "stream",
     "text": [
      "1.5\n"
     ]
    }
   ],
   "source": [
    "#statistics based methods are also available\n",
    "print(x.mean())"
   ]
  },
  {
   "cell_type": "markdown",
   "metadata": {},
   "source": [
    "### __Basic Data Types__"
   ]
  },
  {
   "cell_type": "raw",
   "metadata": {},
   "source": [
    "NumPy auto-detects the data-type from the input. They are integer, unsigned integer , floating point number , Complex number , Boolean and String"
   ]
  },
  {
   "cell_type": "code",
   "execution_count": 12,
   "metadata": {},
   "outputs": [],
   "source": [
    "a = np.ones((3, 3))\n",
    "d = np.array([1+2j, 3+4j, 5+6*1j])\n",
    "e = np.array([True, False, False, True])\n",
    "f = np.array(['Bonjour', 'Hello', 'Hallo'])"
   ]
  },
  {
   "cell_type": "markdown",
   "metadata": {},
   "source": [
    "### __Visualization__"
   ]
  },
  {
   "cell_type": "code",
   "execution_count": 13,
   "metadata": {},
   "outputs": [],
   "source": [
    "#To enable plots in the notebook, use the following command\n",
    "%matplotlib inline"
   ]
  },
  {
   "cell_type": "code",
   "execution_count": 14,
   "metadata": {},
   "outputs": [],
   "source": [
    "#matplotlib is a 2D plotting package which can be imported as follows\n",
    "import matplotlib.pyplot as plt"
   ]
  },
  {
   "cell_type": "markdown",
   "metadata": {},
   "source": [
    "## __PIL__"
   ]
  },
  {
   "cell_type": "markdown",
   "metadata": {},
   "source": [
    "PIL is the Python Imaging Library which provides image editing capabilities.  Image Module provides a lot of functions to work on the images and also comprises of the class with same name. The following line will import the Image module. Pillow is a fork of PIL with easy to use interface."
   ]
  },
  {
   "cell_type": "code",
   "execution_count": 3,
   "metadata": {},
   "outputs": [],
   "source": [
    "from PIL import Image"
   ]
  },
  {
   "cell_type": "markdown",
   "metadata": {},
   "source": [
    "### __Operations on Images__"
   ]
  },
  {
   "cell_type": "markdown",
   "metadata": {},
   "source": [
    "__1. Open a particular image from a path__"
   ]
  },
  {
   "cell_type": "code",
   "execution_count": 53,
   "metadata": {},
   "outputs": [],
   "source": [
    "#img  = Image.open(path)      \n",
    "# On successful execution of this statement, \n",
    "# an object of Image type is returned and stored in img variable) \n",
    "   \n",
    "try:  \n",
    "    img  = Image.open('/home/ravitha/Downloads/Tutorial_Images/mri.jpg')  \n",
    "except IOError: \n",
    "    pass\n",
    "# Use the above statement within try block, as it can  \n",
    "# raise an IOError if file cannot be found,  \n",
    "# or image cannot be opened."
   ]
  },
  {
   "cell_type": "code",
   "execution_count": 54,
   "metadata": {},
   "outputs": [
    {
     "name": "stdout",
     "output_type": "stream",
     "text": [
      "<class 'PIL.JpegImagePlugin.JpegImageFile'>\n"
     ]
    }
   ],
   "source": [
    "print(type(img))"
   ]
  },
  {
   "cell_type": "markdown",
   "metadata": {},
   "source": [
    "__2. Retrieve size of image__ The instances of Image class many attributes, one of its useful attribute is size"
   ]
  },
  {
   "cell_type": "code",
   "execution_count": 55,
   "metadata": {},
   "outputs": [],
   "source": [
    "from PIL import Image \n",
    "  \n",
    "filename = \"/home/ravitha/Downloads/Tutorial_Images/mri.jpg\"\n",
    "with Image.open(filename) as image: \n",
    "    width, height = image.size \n",
    "#Image.size gives a 2-tuple and the width, height can be obtained \n"
   ]
  },
  {
   "cell_type": "markdown",
   "metadata": {},
   "source": [
    "__3. Save changes in image__"
   ]
  },
  {
   "cell_type": "code",
   "execution_count": 56,
   "metadata": {},
   "outputs": [],
   "source": [
    "img.save('mri.jpg')"
   ]
  },
  {
   "cell_type": "markdown",
   "metadata": {},
   "source": [
    "__4. Rotating an Image__ The image rotation needs angle as parameter to get the image rotated."
   ]
  },
  {
   "cell_type": "code",
   "execution_count": 57,
   "metadata": {},
   "outputs": [
    {
     "data": {
      "image/png": "[encoded data removed]",
      "text/plain": [
       "<Figure size 432x288 with 1 Axes>"
      ]
     },
     "metadata": {
      "needs_background": "light"
     },
     "output_type": "display_data"
    }
   ],
   "source": [
    "%matplotlib inline\n",
    "from matplotlib import pyplot as plt\n",
    "img = img.rotate(180)  \n",
    "plt.title('rotated image')\n",
    "plt.imshow(img)\n",
    "plt.show()\n"
   ]
  },
  {
   "cell_type": "markdown",
   "metadata": {},
   "source": [
    "__5. Cropping an Image__ Image.crop(box) takes a 4-tuple (left, upper, right, lower) pixel coordinate, and returns a rectangular region from the used image."
   ]
  },
  {
   "cell_type": "code",
   "execution_count": 59,
   "metadata": {},
   "outputs": [
    {
     "data": {
      "image/png": "[encoded data removed]",
      "text/plain": [
       "<Figure size 432x288 with 1 Axes>"
      ]
     },
     "metadata": {
      "needs_background": "light"
     },
     "output_type": "display_data"
    },
    {
     "name": "stdout",
     "output_type": "stream",
     "text": [
      "image.size:(189, 220)\n"
     ]
    }
   ],
   "source": [
    "area = (0, 0, width/2, height/2) \n",
    "img1 = img.crop(area) \n",
    "plt.title('Cropped image')\n",
    "plt.imshow(img1)\n",
    "plt.show()\n",
    "print(f'image.size:{img1.size}')"
   ]
  },
  {
   "cell_type": "markdown",
   "metadata": {},
   "source": [
    "__6.Resizing an image__ Image.resize(size) where size is a tuple with two values indicating width and height\n",
    "\n",
    "Image.resize(size, resample) resample value can be PIL.Image.BOX, PIL.Image.BILINEAR, PIL.Image.HAMMING, PIL.Image.BICUBIC or PIL.Image.LANCZOS. These are mechanisms used to resize the image"
   ]
  },
  {
   "cell_type": "code",
   "execution_count": 63,
   "metadata": {},
   "outputs": [
    {
     "name": "stdout",
     "output_type": "stream",
     "text": [
      "image.size:(378, 440)\n"
     ]
    },
    {
     "data": {
      "image/png": "[encoded data removed]",
      "text/plain": [
       "<Figure size 432x288 with 1 Axes>"
      ]
     },
     "metadata": {
      "needs_background": "light"
     },
     "output_type": "display_data"
    },
    {
     "name": "stdout",
     "output_type": "stream",
     "text": [
      "image.size:(100, 100)\n"
     ]
    }
   ],
   "source": [
    "(width,height)= img.size\n",
    "print(f'image.size:{img.size}')\n",
    "img1 = img.resize((100, 100)) \n",
    "plt.title('Resized image')\n",
    "plt.imshow(img1)\n",
    "plt.show()\n",
    "print(f'image.size:{img1.size}')"
   ]
  },
  {
   "cell_type": "markdown",
   "metadata": {},
   "source": [
    "__7. Identify  the type of image__"
   ]
  },
  {
   "cell_type": "code",
   "execution_count": 65,
   "metadata": {},
   "outputs": [
    {
     "name": "stdout",
     "output_type": "stream",
     "text": [
      "L\n"
     ]
    }
   ],
   "source": [
    "print(img.mode) # mode value can either be \"1”, “L”, or “RGBA”"
   ]
  },
  {
   "cell_type": "markdown",
   "metadata": {},
   "source": [
    "__8. Get value of Individual pixel__ It returns the pixel value at a given position. Here, the position is indicated by (x,y) coordinate"
   ]
  },
  {
   "cell_type": "code",
   "execution_count": 67,
   "metadata": {},
   "outputs": [
    {
     "name": "stdout",
     "output_type": "stream",
     "text": [
      "4\n"
     ]
    }
   ],
   "source": [
    "print(img.getpixel((3,4)))"
   ]
  },
  {
   "cell_type": "markdown",
   "metadata": {},
   "source": [
    "__9. Get value of Individual pixel__ It modifies the vale at the given pixel, it accepts two parameters: coordinate and the value"
   ]
  },
  {
   "cell_type": "code",
   "execution_count": 70,
   "metadata": {},
   "outputs": [
    {
     "name": "stdout",
     "output_type": "stream",
     "text": [
      "5\n"
     ]
    }
   ],
   "source": [
    "img.putpixel((3,4),5)\n",
    "print(img.getpixel((3,4)))"
   ]
  },
  {
   "cell_type": "markdown",
   "metadata": {},
   "source": [
    "__10. Convert Images__ Convert the images\n",
    "\n",
    "For color images , two possible representations are indexed (or) RGB representation\n",
    "In PIL the mode for the respective images are P and RGB\n",
    "\n",
    "Convert method can be used for conversion of images into different modes"
   ]
  },
  {
   "cell_type": "code",
   "execution_count": 80,
   "metadata": {},
   "outputs": [
    {
     "name": "stdout",
     "output_type": "stream",
     "text": [
      "RGB\n"
     ]
    },
    {
     "data": {
      "text/plain": [
       "(98, 152, 205)"
      ]
     },
     "execution_count": 80,
     "metadata": {},
     "output_type": "execute_result"
    }
   ],
   "source": [
    "img  = Image.open('/home/ravitha/Downloads/Tutorial_Images/statue.png')\n",
    "print(img.mode)\n",
    "img.getpixel((3,4))"
   ]
  },
  {
   "cell_type": "code",
   "execution_count": 78,
   "metadata": {},
   "outputs": [
    {
     "data": {
      "text/plain": [
       "174"
      ]
     },
     "execution_count": 78,
     "metadata": {},
     "output_type": "execute_result"
    }
   ],
   "source": [
    "img = img.convert('P')\n",
    "img.getpixel((3,4))"
   ]
  },
  {
   "cell_type": "markdown",
   "metadata": {},
   "source": [
    "__11. Convert PIL Image into numpy array__ "
   ]
  },
  {
   "cell_type": "code",
   "execution_count": 84,
   "metadata": {},
   "outputs": [],
   "source": [
    "import numpy\n",
    "I = numpy.asarray(img)"
   ]
  },
  {
   "cell_type": "markdown",
   "metadata": {},
   "source": [
    "## __Scikit-image__"
   ]
  },
  {
   "cell_type": "markdown",
   "metadata": {},
   "source": [
    "In skimage, images are stored as numpy arrays.The rectangular shape of the array corresponds to the shape of the image. For an RGB image, three channels (or) matrices of same size encode the intensity of these three primary colors. When working with skimage images, y coordinate is specified first, followed by that x coordinate. If color image, third dimension indicate the channel. 0 for red channel, 1 for green channel and 2 for blue channel"
   ]
  },
  {
   "cell_type": "markdown",
   "metadata": {},
   "source": [
    "![RGB Image](02-chair-layers-rgb.png 'source:https://datacarpentry.org/image-processing/aio/index.html')"
   ]
  },
  {
   "cell_type": "markdown",
   "metadata": {},
   "source": [
    "__Reading and saving images__ \n",
    "\n",
    "io module of skimage (skimage.io) is used to read and write images. skimage.io.imread() function to read a image entitled mri.jpg. Skimage reads the image, converts it into a NumPy array, and returns the array. The array is stored in a variable image"
   ]
  },
  {
   "cell_type": "code",
   "execution_count": 2,
   "metadata": {},
   "outputs": [],
   "source": [
    "import skimage.io\n",
    "\n",
    "# read image\n",
    "image = skimage.io.imread(fname=\"/home/ravitha/Downloads/Tutorial_Images/mri.jpg\")"
   ]
  },
  {
   "cell_type": "markdown",
   "metadata": {},
   "source": [
    "To save the numpy arrays as images imsave method is use. It writes the array as an image to a file"
   ]
  },
  {
   "cell_type": "code",
   "execution_count": 92,
   "metadata": {},
   "outputs": [],
   "source": [
    "skimage.io.imsave(fname=\"mri.tif\", arr=image) #this stores the image as TIFF format"
   ]
  },
  {
   "cell_type": "markdown",
   "metadata": {},
   "source": [
    "To display the images, Image viewer object is required. For an numpy array image viewer object can be obtained using skimage.viewer.Imageviewer()\n",
    "Then invoke the method show() on the image viewer object"
   ]
  },
  {
   "cell_type": "markdown",
   "metadata": {},
   "source": [
    "## __Exercises__"
   ]
  },
  {
   "cell_type": "markdown",
   "metadata": {},
   "source": [
    "1. Identify the pixels or regions which are common in the images Test3.png and TPTest1.png"
   ]
  },
  {
   "cell_type": "markdown",
   "metadata": {},
   "source": [
    "2. Adding a constant to an image increases the brightness of the image. But it may also increase the value greater than what is acceptable in an image. Image normalization (or) truncation are applied to bring back the values to normal range. Similarly, multplication with a scalar factor greater than one also increases the brightness of the image. Use any image to demonstrate the brightness improvement "
   ]
  },
  {
   "cell_type": "markdown",
   "metadata": {},
   "source": [
    "3. Subtraction of image can sometimes be used for separation of foreground from background. Use images gradient and gradient_with_text and help in the separation of text "
   ]
  },
  {
   "cell_type": "markdown",
   "metadata": {},
   "source": [
    "4. XOR when apploed on two images will help highlighting the differences between the images.  Use klcc_a.png and klcc_b.png and help highlight the changes in them.XOR can only be applied between binary and grayscale image. Convert RGB to grayscale and then apply XOR to the images and Report the results"
   ]
  },
  {
   "cell_type": "markdown",
   "metadata": {},
   "source": [
    "## __References__"
   ]
  },
  {
   "cell_type": "markdown",
   "metadata": {},
   "source": [
    "1. https://datacarpentry.org/image-processing/aio/index.html"
   ]
  }
 ],
 "metadata": {
  "kernelspec": {
   "display_name": "Python 3",
   "language": "python",
   "name": "python3"
  },
  "language_info": {
   "codemirror_mode": {
    "name": "ipython",
    "version": 3
   },
   "file_extension": ".py",
   "mimetype": "text/x-python",
   "name": "python",
   "nbconvert_exporter": "python",
   "pygments_lexer": "ipython3",
   "version": "3.6.7"
  }
 },
 "nbformat": 4,
 "nbformat_minor": 4
}
