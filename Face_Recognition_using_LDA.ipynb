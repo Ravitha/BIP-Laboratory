{
  "nbformat": 4,
  "nbformat_minor": 0,
  "metadata": {
    "colab": {
      "name": "Face Recognition using LDA.ipynb",
      "provenance": [],
      "authorship_tag": "ABX9TyP+eZkcQ+iTn5NA8lKIYLxV",
      "include_colab_link": true
    },
    "kernelspec": {
      "name": "python3",
      "display_name": "Python 3"
    }
  },
  "cells": [
    {
      "cell_type": "markdown",
      "metadata": {
        "id": "view-in-github",
        "colab_type": "text"
      },
      "source": [
        "<a href=\"https://colab.research.google.com/github/Ravitha/BIP-Laboratory/blob/master/Face_Recognition_using_LDA.ipynb\" target=\"_parent\"><img src=\"https://colab.research.google.com/assets/colab-badge.svg\" alt=\"Open In Colab\"/></a>"
      ]
    },
    {
      "cell_type": "markdown",
      "metadata": {
        "id": "KJ0D59QGmfYN",
        "colab_type": "text"
      },
      "source": [
        "# Experiment on Using Linear Discriminant Analysis for Face Recognition"
      ]
    },
    {
      "cell_type": "code",
      "metadata": {
        "id": "iQXpef4D8PK8",
        "colab_type": "code",
        "colab": {
          "base_uri": "https://localhost:8080/",
          "height": 52
        },
        "outputId": "91d236f4-4a58-489b-a625-78a06d7c96c3"
      },
      "source": [
        "# Necessary Imports\n",
        "import matplotlib.pyplot as plt\n",
        "from sklearn.datasets import fetch_lfw_people\n",
        "# Load data\n",
        "lfw_dataset = fetch_lfw_people(min_faces_per_person=100)\n",
        "_, h, w = lfw_dataset.images.shape\n",
        "print(h) #height of the image\n",
        "print(w) # width of the image"
      ],
      "execution_count": 26,
      "outputs": [
        {
          "output_type": "stream",
          "text": [
            "62\n",
            "47\n"
          ],
          "name": "stdout"
        }
      ]
    },
    {
      "cell_type": "code",
      "metadata": {
        "id": "tkVU9CTk8R59",
        "colab_type": "code",
        "colab": {
          "base_uri": "https://localhost:8080/",
          "height": 52
        },
        "outputId": "5e703bfd-d0ec-41ef-80dd-0e892ecd9325"
      },
      "source": [
        "#Obtain the data statistics\n",
        "X = lfw_dataset.data # loads data\n",
        "y = lfw_dataset.target # loads class labels (encoded as number)\n",
        "target_names = lfw_dataset.target_names # loads the class names (identity of the person)\n",
        "print(X.shape)\n",
        "print(y.shape)"
      ],
      "execution_count": 27,
      "outputs": [
        {
          "output_type": "stream",
          "text": [
            "(1140, 2914)\n",
            "(1140,)\n"
          ],
          "name": "stdout"
        }
      ]
    },
    {
      "cell_type": "code",
      "metadata": {
        "id": "89dYE8AZ8VRb",
        "colab_type": "code",
        "colab": {
          "base_uri": "https://localhost:8080/",
          "height": 35
        },
        "outputId": "e147aac6-e1e6-4012-ca64-9f645dff5ac7"
      },
      "source": [
        "import numpy as np\n",
        "print(np.unique(y, return_counts=True)) # While using machine learning, its a good practice to know the \n",
        "#number of images corresponding to each of the classes"
      ],
      "execution_count": 28,
      "outputs": [
        {
          "output_type": "stream",
          "text": [
            "(array([0, 1, 2, 3, 4]), array([236, 121, 530, 109, 144]))\n"
          ],
          "name": "stdout"
        }
      ]
    },
    {
      "cell_type": "code",
      "metadata": {
        "id": "9z68QHgYiGwy",
        "colab_type": "code",
        "colab": {}
      },
      "source": [
        "from sklearn.model_selection import train_test_split\n",
        "# split into a training and testing set\n",
        "# This method splits the dataset into two 30% instances for test and 70% instances for training\n",
        "X_train, X_test, y_train, y_test = train_test_split(X, y, test_size=0.3)"
      ],
      "execution_count": 0,
      "outputs": []
    },
    {
      "cell_type": "markdown",
      "metadata": {
        "id": "-T7fqMERm0hE",
        "colab_type": "text"
      },
      "source": [
        "# Split the dataset as training and test set"
      ]
    },
    {
      "cell_type": "code",
      "metadata": {
        "id": "fIuS1xPs82q9",
        "colab_type": "code",
        "colab": {
          "base_uri": "https://localhost:8080/",
          "height": 52
        },
        "outputId": "2cbf332d-35c4-4c1e-911b-17b60b869906"
      },
      "source": [
        "print(X_train.shape)\n",
        "print(X_test.shape)"
      ],
      "execution_count": 6,
      "outputs": [
        {
          "output_type": "stream",
          "text": [
            "(798, 2914)\n",
            "(342, 2914)\n"
          ],
          "name": "stdout"
        }
      ]
    },
    {
      "cell_type": "markdown",
      "metadata": {
        "id": "5tABSatVm5x1",
        "colab_type": "text"
      },
      "source": [
        "# Obtain Reduced Transformation using LDA\n"
      ]
    },
    {
      "cell_type": "code",
      "metadata": {
        "id": "DbhZjRni9BZ7",
        "colab_type": "code",
        "colab": {}
      },
      "source": [
        "from sklearn.discriminant_analysis import LinearDiscriminantAnalysis\n",
        "lda = LinearDiscriminantAnalysis().fit(X_train,y_train)"
      ],
      "execution_count": 0,
      "outputs": []
    },
    {
      "cell_type": "code",
      "metadata": {
        "id": "GEXbh3-39mSx",
        "colab_type": "code",
        "colab": {
          "base_uri": "https://localhost:8080/",
          "height": 52
        },
        "outputId": "f57723df-0e81-4b5b-b851-28497896dbe4"
      },
      "source": [
        "X_train_lda = lda.transform(X_train)\n",
        "X_test_lda = lda.transform(X_test)\n",
        "print(X_train_lda.shape)\n",
        "print(X_test_lda.shape)"
      ],
      "execution_count": 10,
      "outputs": [
        {
          "output_type": "stream",
          "text": [
            "(798, 4)\n",
            "(342, 4)\n"
          ],
          "name": "stdout"
        }
      ]
    },
    {
      "cell_type": "markdown",
      "metadata": {
        "id": "XnpG9AbenE97",
        "colab_type": "text"
      },
      "source": [
        "# Train and Evaluate Classifier"
      ]
    },
    {
      "cell_type": "code",
      "metadata": {
        "id": "7593t_h0-YlI",
        "colab_type": "code",
        "colab": {}
      },
      "source": [
        "from sklearn.neural_network import MLPClassifier # it could be any classifier . Here we have used\n",
        "#Multi layer perceptron"
      ],
      "execution_count": 0,
      "outputs": []
    },
    {
      "cell_type": "code",
      "metadata": {
        "id": "wo1nkyjT-dZM",
        "colab_type": "code",
        "colab": {
          "base_uri": "https://localhost:8080/",
          "height": 586
        },
        "outputId": "8a8b5fd3-48be-427e-9ff6-841f069a27a8"
      },
      "source": [
        "# In sklearn any classifier you build\n",
        "# you use fit and predict\n",
        "# fit for building model\n",
        "# predict for evaluating model\n",
        "# train a neural network\n",
        "print(\"Fitting the classifier to the training set\")#reduced dimensions\n",
        "clf = MLPClassifier(hidden_layer_sizes=(300,), \\\n",
        "                    batch_size=256, verbose=True, early_stopping=True).fit(X_train_lda, y_train)"
      ],
      "execution_count": 30,
      "outputs": [
        {
          "output_type": "stream",
          "text": [
            "Fitting the classifier to the training set\n",
            "Iteration 1, loss = 1.60029259\n",
            "Validation score: 0.400000\n",
            "Iteration 2, loss = 1.25803603\n",
            "Validation score: 0.862500\n",
            "Iteration 3, loss = 0.97173490\n",
            "Validation score: 0.950000\n",
            "Iteration 4, loss = 0.73833053\n",
            "Validation score: 1.000000\n",
            "Iteration 5, loss = 0.55636004\n",
            "Validation score: 1.000000\n",
            "Iteration 6, loss = 0.42275834\n",
            "Validation score: 1.000000\n",
            "Iteration 7, loss = 0.32445067\n",
            "Validation score: 1.000000\n",
            "Iteration 8, loss = 0.25256551\n",
            "Validation score: 1.000000\n",
            "Iteration 9, loss = 0.20139074\n",
            "Validation score: 1.000000\n",
            "Iteration 10, loss = 0.16395779\n",
            "Validation score: 1.000000\n",
            "Iteration 11, loss = 0.13642387\n",
            "Validation score: 1.000000\n",
            "Iteration 12, loss = 0.11597320\n",
            "Validation score: 1.000000\n",
            "Iteration 13, loss = 0.10037701\n",
            "Validation score: 1.000000\n",
            "Iteration 14, loss = 0.08874626\n",
            "Validation score: 1.000000\n",
            "Iteration 15, loss = 0.07921899\n",
            "Validation score: 1.000000\n",
            "Validation score did not improve more than tol=0.000100 for 10 consecutive epochs. Stopping.\n"
          ],
          "name": "stdout"
        }
      ]
    },
    {
      "cell_type": "code",
      "metadata": {
        "id": "DwQvak0Q-flF",
        "colab_type": "code",
        "colab": {
          "base_uri": "https://localhost:8080/",
          "height": 230
        },
        "outputId": "f5e252ae-d913-4fd3-b26b-4b613b2b810e"
      },
      "source": [
        "# Predict and measure the efficiency of the classifier\n",
        "from sklearn.metrics import classification_report\n",
        "y_pred = clf.predict(X_test_lda)\n",
        "print(classification_report(y_test, y_pred, target_names=target_names))"
      ],
      "execution_count": 31,
      "outputs": [
        {
          "output_type": "stream",
          "text": [
            "                   precision    recall  f1-score   support\n",
            "\n",
            "     Colin Powell       0.71      0.73      0.72        62\n",
            "  Donald Rumsfeld       0.41      0.89      0.56        37\n",
            "    George W Bush       0.90      0.73      0.80       164\n",
            "Gerhard Schroeder       0.75      0.26      0.39        34\n",
            "       Tony Blair       0.57      0.69      0.63        45\n",
            "\n",
            "         accuracy                           0.69       342\n",
            "        macro avg       0.67      0.66      0.62       342\n",
            "     weighted avg       0.76      0.69      0.70       342\n",
            "\n"
          ],
          "name": "stdout"
        }
      ]
    }
  ]
}